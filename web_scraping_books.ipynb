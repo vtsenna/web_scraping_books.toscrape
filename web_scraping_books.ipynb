{
  "nbformat": 4,
  "nbformat_minor": 0,
  "metadata": {
    "colab": {
      "provenance": [],
      "authorship_tag": "ABX9TyMaf3GWJdH/RasfPXCt8VvX",
      "include_colab_link": true
    },
    "kernelspec": {
      "name": "python3",
      "display_name": "Python 3"
    },
    "language_info": {
      "name": "python"
    }
  },
  "cells": [
    {
      "cell_type": "markdown",
      "metadata": {
        "id": "view-in-github",
        "colab_type": "text"
      },
      "source": [
        "<a href=\"https://colab.research.google.com/github/vtsenna/web_scraping_books.toscrape/blob/main/web_scraping_books.ipynb\" target=\"_parent\"><img src=\"https://colab.research.google.com/assets/colab-badge.svg\" alt=\"Open In Colab\"/></a>"
      ]
    },
    {
      "cell_type": "code",
      "execution_count": null,
      "metadata": {
        "id": "qD271FGZmVh4"
      },
      "outputs": [],
      "source": [
        "import requests\n",
        "from bs4 import BeautifulSoup\n",
        "import csv"
      ]
    },
    {
      "cell_type": "code",
      "source": [
        "url_base = \"http://books.toscrape.com/\"\n",
        "\n",
        "categorias = {\n",
        "    \"Viagem\": \"http://books.toscrape.com/catalogue/category/books/travel_2/index.html\",\n",
        "    \"Mistério\": \"http://books.toscrape.com/catalogue/category/books/mystery_3/index.html\"\n",
        "}"
      ],
      "metadata": {
        "id": "eqNj8099mhxA"
      },
      "execution_count": null,
      "outputs": []
    },
    {
      "cell_type": "code",
      "source": [
        "dados = []\n",
        "\n",
        "for categoria, url_categoria in categorias.items():\n",
        "    response = requests.get(url_categoria)\n",
        "    soup = BeautifulSoup(response.text, 'html.parser')\n",
        "    livros = soup.find_all('h3')\n",
        "    precos = soup.find_all('p', class_='price_color')\n",
        "\n",
        "    for livro, preco in zip(livros, precos):\n",
        "        nome_livro = livro.a['title']\n",
        "        preco_livro = preco.get_text(strip=True)\n",
        "        dados.append([categoria, nome_livro, preco_livro])"
      ],
      "metadata": {
        "id": "z1Hlc7gMmlYe"
      },
      "execution_count": null,
      "outputs": []
    },
    {
      "cell_type": "code",
      "source": [
        "with open('livros_viagem_misterio.csv', 'w', newline='', encoding='utf-8-sig') as arquivo:\n",
        "    writer = csv.writer(arquivo)\n",
        "    writer.writerow(['Categoria', 'Nome do Livro', 'Preço'])\n",
        "    writer.writerows(dados)"
      ],
      "metadata": {
        "id": "UaarkfjMmqUn"
      },
      "execution_count": null,
      "outputs": []
    }
  ]
}